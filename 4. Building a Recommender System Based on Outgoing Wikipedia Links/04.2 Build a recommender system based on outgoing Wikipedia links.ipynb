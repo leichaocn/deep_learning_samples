{
 "cells": [
  {
   "cell_type": "code",
   "execution_count": 17,
   "metadata": {},
   "outputs": [],
   "source": [
    "import json\n",
    "from collections import Counter\n",
    "from keras.models import Model\n",
    "from keras.layers import Embedding, Input, Reshape\n",
    "from keras.layers.merge import Dot\n",
    "from sklearn.linear_model import LinearRegression\n",
    "import numpy as np\n",
    "import random\n",
    "import os\n",
    "from sklearn import svm\n",
    "from keras.utils.vis_utils import plot_model"
   ]
  },
  {
   "cell_type": "code",
   "execution_count": 18,
   "metadata": {},
   "outputs": [],
   "source": [
    "my_path=os.getcwd()+\"/\"\n",
    "with open(my_path+'data/wp_movies_10k.ndjson') as fin:\n",
    "    movies = [json.loads(l) for l in fin]"
   ]
  },
  {
   "cell_type": "code",
   "execution_count": 19,
   "metadata": {},
   "outputs": [
    {
     "data": {
      "text/plain": [
       "[('Deadline.com', 167),\n",
       " ('The Hollywood Reporter', 167),\n",
       " ('Variety (magazine)', 139),\n",
       " ('Forbes', 91),\n",
       " ('Marvel Comics', 54),\n",
       " ('Los Angeles Times', 46),\n",
       " ('Rotten Tomatoes', 44),\n",
       " ('Metacritic', 44),\n",
       " ('Entertainment Weekly', 43),\n",
       " ('The Guardian', 38)]"
      ]
     },
     "execution_count": 19,
     "metadata": {},
     "output_type": "execute_result"
    }
   ],
   "source": [
    "\n",
    "\"\"\"\n",
    "movies是一个全量数据的数组\n",
    "其中的每个元素movie，形如下面。其中\n",
    "第1个元素为电影名;\n",
    "第2个元素是字典;\n",
    "第3个元素是数组，包括很多实体名；\n",
    "第4个元素一个百分率；\n",
    "第5个元素是日期。\n",
    "['Deadpool (film)', \n",
    " {'gross': '$783.1 million', 'country': 'United States', 'runtime': '108 minutes', 'caption': 'Theatrical release poster', 'budget': '$58 million', 'Software Used': 'Adobe Premier Pro', 'cinematography': 'Ken Seng', 'director': 'Tim Miller', 'language': 'English', 'editing': 'Julian Clarke', 'alt': \"Official poster shows the titular hero Deadpool standing in front of the viewers, with hugging his hands, and donning his traditional black and red suit and mask, and the film's name, credits and billing below him.\", 'music': 'Tom Holkenborg', 'name': 'Deadpool', 'image': 'Deadpool poster.jpg', 'distributor': '20th Century Fox'}, \n",
    " ['Tim Miller (director)', 'Simon Kinberg', 'Ryan Reynolds', 'Lauren Shuler Donner', 'Rhett Reese', 'Paul Wernick', 'Deadpool', 'Fabian Nicieza', 'Rob Liefeld', 'Morena Baccarin', 'Ed Skrein', 'T.J. Miller', 'Gina Carano', 'Leslie Uggams', 'Brianna Hildebrand', 'Stefan Kapičić', 'Junkie XL', 'Julian Clarke', 'Marvel Entertainment', 'Kinberg Genre', 'Lauren Shuler Donner', 'TSG Entertainment', '20th Century Fox', 'Le Grand Rex', 'Variety (magazine)', 'Box Office Mojo', 'superhero film', 'Tim Miller (director)', 'Rhett Reese', 'Paul Wernick', 'Marvel Comics', 'Deadpool', 'X-Men (film series)', 'Ryan Reynolds', 'Morena Baccarin', 'Ed Skrein', 'T.J. Miller', 'Gina Carano', 'Leslie Uggams', 'Brianna Hildebrand', 'Stefan Kapičić', 'antihero', 'New Line Cinema', '20th Century Fox', 'X-Men Origins: Wolverine', 'principal photography', 'Vancouver', 'IMAX', 'Digital Light Processing', 'D-Box Technologies', 'List of accolades received by Deadpool (film)', 'Golden Globe Award', 'Golden Globe Award for Best Motion Picture – Musical or Comedy', 'Golden Globe Award for Best Actor – Motion Picture Musical or Comedy', 'Producers Guild of America Award', \"Critics' Choice Movie Awards\", \"Critics' Choice Movie Award for Best Comedy\", \"Critics' Choice Movie Award for Best Actor in a Comedy\", '2016 in film', '#Sequels', 'nonlinear narrative', 'Deadpool', 'special forces', 'Copycat (Marvel Comics)', 'Liver cancer', 'Lung cancer', 'Prostate cancer', 'Brain tumor', 'Ajax (comics)#Deadpool character', 'Angel Dust (comics)', 'healing factor', 'rebar', 'Weasel (Marvel Comics)', 'Blind Al', 'Colossus (comics)', 'Negasonic Teenage Warhead', 'X-Men', 'helicarrier', 'post-credits scene', 'Cable (comics)', 'File:Cast of Deadpool.jpg', 'San Diego Comic-Con', 'Ryan Reynolds', 'Deadpool', 'cancer', 'X-Men Origins: Wolverine', 'fourth wall', 'Morena Baccarin', 'Copycat (Marvel Comics)', 'damsel in distress', 'Ed Skrein', 'Ajax (comics)#Deadpool character', 'Weapon X', 'YouTube', 'Tim Miller (director)', 'T.J. Miller', 'Weasel (Marvel Comics)', 'Simon Kinberg', 'USA Today', 'Gina Carano', 'Angel Dust (comics)', 'Leslie Uggams', 'Blind Al', 'Indiewire', 'Brianna Hildebrand', 'Negasonic Teenage Warhead', 'X-Men', 'Marvel Studios', 'Kevin Feige', 'Ego the Living Planet', 'Guardians of the Galaxy Vol. 2', 'Stefan Kapičić', 'Colossus (comics)', 'Daniel Cudmore', 'X2 (film)', 'X-Men: The Last Stand', 'X-Men: Days of Future Past', 'Andre Tricoteux', 'Karan Soni', 'Jed Rees', 'Agent Smith', 'Stan Lee', 'Rob Liefeld', 'Isaac C. Singleton Jr.', 'Bob, Agent of Hydra', 'Hydra (comics)', 'Nathan Fillion', 'Twitter', 'Simon Kinberg', 'Artisan Entertainment', 'Marvel Entertainment', 'Deadpool', 'New Line Cinema', 'David S. Goyer', 'Ryan Reynolds', 'Shar Pei', 'Cable & Deadpool', 'Turnaround (filmmaking)', 'X-Men Origins: Wolverine', 'Lauren Shuler Donner', 'Reboot (fiction)', 'fourth wall', 'Rhett Reese', 'Paul Wernick', 'Robert Rodriguez', 'Tim Miller (director)', 'Adam Berg (director)', 'Blur Studio', 'James Cameron', 'David Fincher', 'development hell', 'Garrison Kane', 'Cannonball (comics)', 'Computer-generated imagery', 'Hillbilly', 'Wyre (comics)', 'Angel Dust (comics)', 'Cable (comics)', 'List of directorial debuts', 'Colossus (comics)', 'Simon Kinberg', 'The Hollywood Reporter', 'T. J. Miller', 'Ed Skrein', 'Gina Carano', 'Angel Dust (comics)', 'Morena Baccarin', 'Taylor Schilling', 'Crystal Reed', 'Rebecca Rittenhouse', 'Sarah Greene (actress)', 'Jessica De Gouw', 'Weasel (Marvel Comics)', 'Copycat (Marvel Comics)', 'Brianna Hildebrand', 'Negasonic Teenage Warhead', 'Ajax (comics)#Deadpool character', 'Leslie Uggams', 'Blind Al', 'Jed Rees', 'Stefan Kapičić', 'Colossus (comics)', 'Daniel Cudmore', 'Twitter', 'File:Deadpool, Georgia Viaduct, Vancouver, April 6 2015 - 3.jpg', 'Rolling Stone', 'Principal photography', 'Vancouver', 'stunt coordinator', 'CBC News', 'David Cronenberg', 'Eastern Promises', 'Yahoo! Movies', 'Digital Domain', 'Weta Digital', 'Rodeo FX', 'Luma Pictures', 'Image Engine', 'Adobe Systems', 'matte paintings', 'helicarrier', 'Detroit', 'Chicago', 'File:Colossus - mocap.jpg', 'Colossus (comics)', 'Computer-generated imagery', 'Digital Domain', 'Cold-formed steel', 'Hot working', 'Taxicab', 'Junkie XL', 'ARP 2600', 'Synclavier', 'Oberheim Electronics#Oberheim polyphonic synthesizers', 'io9', 'YouTube personality', 'Deadpool (video game)', 'Milan Records', 'Grand Rex', 'IMAX', 'Digital Light Processing', 'D-Box Technologies', 'The Hollywood Reporter', 'Uzbekistan', 'Central Board of Film Certification', 'The Hollywood Reporter', 'Hong Kong', 'Singapore', 'standing ovation', 'The Hollywood Reporter', 'Meta-joke', 'Business Insider', 'viral marketing', 'Christmas', \"Valentine's Day\", 'io9', 'emoji', 'YouTube', 'Screen Junkies', 'The Guardian', 'Blu-ray', '2016 in film', 'The Matrix Reloaded', 'Forbes', 'Variety (magazine)', 'X-Men: Days of Future Past', 'Deadline.com', 'James Cameron', 'George Lucas', 'Star Wars: Episode III – Revenge of the Sith', 'The Dark Knight Rises', 'The Hollywood Reporter', 'IMAX', '3D film', 'Los Angeles Times', 'Yahoo!', 'Variety (magazine)', 'Forbes (magazine)', \"Presidents' Day (United States)\", 'Zoolander 2', 'How to Be Single', 'The Hollywood Reporter', 'Deadline.com', 'Variety (magazine)', 'Guardians of the Galaxy (film)', 'Captain America: The Winter Soldier', 'The Hollywood Reporter', 'Deadline.com', 'R-rated', 'The Hangover Part II', 'Fifty Shades of Grey (film)', 'The Hollywood Reporter', 'Deadline.com', 'word of mouth', 'Star Wars: Episode III – Revenge of the Sith', 'Forbes', 'Century Theatres', 'Deadline.com', 'The Hollywood Reporter', 'The Avengers (2012 film)', 'The Hunger Games (film)', 'Forbes (magazine)', 'Furious 7', 'Alice in Wonderland (2010 film)', 'Wanted (2008 film)', 'Watchmen (film)', 'The Vow (2012 film)', 'X-Men (film)', 'X-Men: First Class', 'The Wolverine (film)', 'X-Men Origins: Wolverine', 'Deadline.com', 'Second weekend in box office performance', 'Avengers: Age of Ultron', 'X-Men: The Last Stand', '300 (film)', 'Forbes', 'The Passion of the Christ', 'Forbes', 'Zootopia', 'London Has Fallen', 'Non-Hispanic whites', 'Hispanic', 'African-American', 'Asian Americans', 'Guardians of the Galaxy (film)', 'Captain America: Civil War', 'Avengers: Age of Ultron', 'Batman v Superman: Dawn of Justice', 'Suicide Squad (film)', 'The Hollywood Reporter', 'Spectre (2015)', 'United Kingdom and Ireland', 'Chinese New Year', 'Hong Kong', 'Singapore', 'The Mermaid (2016 film)', 'Deadline.com', 'Ip Man 3', 'Zootopia', 'Iron Man 3', 'Star Wars: The Force Awakens', 'Rotten Tomatoes', 'Rotten Tomatoes', 'Metacritic', 'CinemaScore', 'Peter Travers', 'Rolling Stone', 'Rolling Stone', 'TheWrap', 'Alonso Duralde', 'Guardians of the Galaxy (film)', 'Christy Lemire', 'Richard Roeper', 'Chicago Sun-Times', 'Kenneth Turan', 'Los Angeles Times', 'Los Angeles Times', 'The Hollywood Reporter', 'Deadline.com', 'Spider-Man', 'Superhero Hype', '/Film', 'Domino (comics)', 'TheWrap', 'Mashable', 'David Leitch (filmmaker)', 'Rupert Sanders', 'Drew Goddard', 'Mashable', 'X-Force', 'Hugh Jackman', 'Twitter', 'Variety (magazine)', 'The Hollywood Reporter', 'British Board of Film Classification', 'Los Angeles Times', 'Variety (magazine)', 'MTV News', 'Empire (film magazine)', 'The Hollywood Reporter', 'Variety (magazine)', 'The Daily Dot', 'Bleeding Cool', 'The Hollywood Reporter', 'TheWrap', 'The Hollywood Reporter', 'Variety (magazine)', 'Entertainment Weekly', 'Deadline.com', 'MTV News', 'Deadline.com', 'Business Insider', 'The Hollywood Reporter', 'Twitter', 'Empire (magazine)', 'fxguide', 'Category:20th Century Fox films', 'Category:2010s action films', 'Category:2010s comedy films', 'Category:2010s superhero films', 'Category:2016 films', 'Category:American action comedy films', 'Category:American black comedy films', 'Category:American films', 'Category:Deadpool', 'Category:Directorial debut films', 'Category:English-language films', 'Category:Film scores by Junkie XL', 'Category:Film spin-offs', 'Category:Films about cancer', 'Category:Films about revenge', 'Category:Films directed by Tim Miller', 'Category:Films set in New York', 'Category:Films shot in Vancouver', 'Category:Films with live action and animation', 'Category:Human experimentation in fiction', 'Category:IMAX films', 'Category:Metafictional works', 'Category:Nonlinear narrative films', 'Category:Performance capture in film', 'Category:Self-reflexive films', 'Category:Superhero comedy films', 'Category:Vigilante films', 'Category:X-Men films'], \n",
    " '84%', \n",
    " '6.9/10']\n",
    "\"\"\"\n",
    "link_counts = Counter()\n",
    "for movie in movies[:20]:\n",
    "    # print(movie)\n",
    "    # print(\"#\"*20)\n",
    "    # link_counts是一个计数器对象，将统计所有实体名的出现次数。\n",
    "    link_counts.update(movie[2])\n",
    "# 显示出现频率最高的10个实体名。\n",
    "link_counts.most_common(10)"
   ]
  },
  {
   "cell_type": "code",
   "execution_count": 20,
   "metadata": {},
   "outputs": [
    {
     "name": "stdout",
     "output_type": "stream",
     "text": [
      "[(279, 0), (612, 0), (358, 0), (322, 0), (461, 0), (258, 0), (504, 0), (401, 0), (288, 0), (1, 0)]\n"
     ]
    },
    {
     "data": {
      "text/plain": [
       "(140940, 683, 10000)"
      ]
     },
     "execution_count": 20,
     "metadata": {},
     "output_type": "execute_result"
    }
   ],
   "source": [
    "# top_links数组，元素为所有出现三次以上的链接名\n",
    "top_links = [link for link, c in link_counts.items() if c >= 3]\n",
    "# link_to_idx是一个字典，用于存下所有连接名对应的top_links索引\n",
    "# 即top_links[link_to_idx[链接名]]即可拿到movie_to_idx[电影名]对应的movie元素\n",
    "link_to_idx = {link: idx for idx, link in enumerate(top_links)}\n",
    "# movie_to_idx是一个字典，用于存下所有电影名对应的movies索引\n",
    "# 即movies[movie_to_idx[电影名]]即可拿到movie_to_idx[电影名]对应的movie元素\n",
    "movie_to_idx = {movie[0]: idx for idx, movie in enumerate(movies)}\n",
    "pairs = []\n",
    "for movie in movies:\n",
    "    # 对于每一个movie，遍历其链接名\n",
    "    # 如果该链接名存在于link_to_idx中，就把该链接名的top_links索引，该电影名在movies中的索引，拼成元组，存下来。\n",
    "    pairs.extend((link_to_idx[link], movie_to_idx[movie[0]]) for link in movie[2] if link in link_to_idx)\n",
    "print(pairs[:10])\n",
    "pairs_set = set(pairs)\n",
    "# len(pairs)  总的索引对名，140940个\n",
    "# len(top_links),总的连接名 683个（指的是大于3次的高频链接）\n",
    "# len(movie_to_idx) 总共的电影名 10000个\n",
    "len(pairs), len(top_links), len(movie_to_idx)"
   ]
  },
  {
   "cell_type": "code",
   "execution_count": 21,
   "metadata": {},
   "outputs": [
    {
     "name": "stdout",
     "output_type": "stream",
     "text": [
      "__________________________________________________________________________________________________\n",
      "Layer (type)                    Output Shape         Param #     Connected to                     \n",
      "==================================================================================================\n",
      "link (InputLayer)               (None, 1)            0                                            \n",
      "__________________________________________________________________________________________________\n",
      "movie (InputLayer)              (None, 1)            0                                            \n",
      "__________________________________________________________________________________________________\n",
      "link_embedding (Embedding)      (None, 1, 50)        34150       link[0][0]                       \n",
      "__________________________________________________________________________________________________\n",
      "movie_embedding (Embedding)     (None, 1, 50)        500000      movie[0][0]                      \n",
      "__________________________________________________________________________________________________\n",
      "dot_product (Dot)               (None, 1, 1)         0           link_embedding[0][0]             \n",
      "                                                                 movie_embedding[0][0]            \n",
      "__________________________________________________________________________________________________\n",
      "reshape_3 (Reshape)             (None, 1)            0           dot_product[0][0]                \n",
      "==================================================================================================\n",
      "Total params: 534,150\n",
      "Trainable params: 534,150\n",
      "Non-trainable params: 0\n",
      "__________________________________________________________________________________________________\n"
     ]
    }
   ],
   "source": [
    "def movie_embedding_model(embedding_size=50):\n",
    "    link = Input(name='link', shape=(1,))\n",
    "    movie = Input(name='movie', shape=(1,))\n",
    "    link_embedding = Embedding(name='link_embedding', \n",
    "                               input_dim=len(top_links), \n",
    "                               output_dim=embedding_size)(link)\n",
    "    movie_embedding = Embedding(name='movie_embedding', \n",
    "                                input_dim=len(movie_to_idx), \n",
    "                                output_dim=embedding_size)(movie)\n",
    "    dot = Dot(name='dot_product', normalize=True, axes=2)([link_embedding, movie_embedding])\n",
    "    merged = Reshape((1,))(dot)\n",
    "    model = Model(inputs=[link, movie], outputs=[merged])\n",
    "    model.compile(optimizer='nadam', loss='mse')\n",
    "    return model\n",
    "\n",
    "model = movie_embedding_model()\n",
    "plot_model(model, to_file='movie_embedding_model.png',show_shapes=True)\n",
    "model.summary()"
   ]
  },
  {
   "cell_type": "code",
   "execution_count": 22,
   "metadata": {},
   "outputs": [
    {
     "name": "stdout",
     "output_type": "stream",
     "text": [
      "batch_size= 9\n"
     ]
    },
    {
     "data": {
      "text/plain": [
       "({'link': array([ 646.,  664.,  380.,  476.,  160.,  286.,  556.,  587.,  651.]),\n",
       "  'movie': array([ 3940.,  4080.,  1854.,   475.,   849.,  2040.,  6238.,  1670.,\n",
       "          9613.])},\n",
       " array([ 1., -1., -1., -1., -1.,  1., -1., -1.,  1.]))"
      ]
     },
     "execution_count": 22,
     "metadata": {},
     "output_type": "execute_result"
    }
   ],
   "source": [
    "random.seed(5)\n",
    "# 迭代式生成训练数据\n",
    "# 可参考博客 https://blog.csdn.net/ChenVast/article/details/83023326 的解释\n",
    "def batchifier(pairs, positive_samples=50, negative_ratio=10):\n",
    "    # 50个正样本，550个总样本（batch_size），推出500个负样本。\n",
    "    batch_size = positive_samples * (1 + negative_ratio)\n",
    "    print('batch_size=',batch_size)\n",
    "    # batch_size行，3列。\n",
    "    batch = np.zeros((batch_size, 3))\n",
    "    while True:\n",
    "        # 在pairs数组中，随机采样50个样本作为正例，并把二元组扩充成三元组，第三元为label，标为1\n",
    "        for idx, (link_id, movie_id) in enumerate(random.sample(pairs, positive_samples)):\n",
    "            batch[idx, :] = (link_id, movie_id, 1)\n",
    "        # 原来是idx = positive_samples，改成下式更好理解。\n",
    "        idx = idx+1\n",
    "        \n",
    "        # 找出batch_size-positive_samples=500个负样本，\n",
    "        while idx < batch_size:\n",
    "            movie_id = random.randrange(len(movie_to_idx))\n",
    "            link_id = random.randrange(len(top_links))\n",
    "            if not (link_id, movie_id) in pairs_set:\n",
    "                batch[idx, :] = (link_id, movie_id, -1)\n",
    "                # 只有(link_id, movie_id)不在pairs_set中，才会idx才会累加。因此一定能找够500个负样本。\n",
    "                idx += 1\n",
    "        np.random.shuffle(batch)\n",
    "        # 第一个元素为feature字典，第二个元素为label。\n",
    "        # batch[:, i]是对第i列的读取。而之前写入batch[idx, :] 是对第idx行的写入。\n",
    "        yield {'link': batch[:, 0], 'movie': batch[:, 1]}, batch[:, 2]\n",
    "\n",
    "next(batchifier(pairs, positive_samples=3, negative_ratio=2))"
   ]
  },
  {
   "cell_type": "code",
   "execution_count": 23,
   "metadata": {},
   "outputs": [
    {
     "name": "stdout",
     "output_type": "stream",
     "text": [
      "batch_size= 5632\n",
      "Epoch 1/15\n",
      " - 9s - loss: 0.4160\n",
      "Epoch 2/15\n",
      " - 8s - loss: 0.1992\n",
      "Epoch 3/15\n",
      " - 8s - loss: 0.1940\n",
      "Epoch 4/15\n",
      " - 8s - loss: 0.1957\n",
      "Epoch 5/15\n",
      " - 8s - loss: 0.1942\n",
      "Epoch 6/15\n",
      " - 8s - loss: 0.1852\n",
      "Epoch 7/15\n",
      " - 8s - loss: 0.1858\n",
      "Epoch 8/15\n",
      " - 8s - loss: 0.1840\n",
      "Epoch 9/15\n",
      " - 8s - loss: 0.1854\n",
      "Epoch 10/15\n",
      " - 8s - loss: 0.1845\n",
      "Epoch 11/15\n",
      " - 8s - loss: 0.1911\n",
      "Epoch 12/15\n",
      " - 8s - loss: 0.1915\n",
      "Epoch 13/15\n",
      " - 8s - loss: 0.1937\n",
      "Epoch 14/15\n",
      " - 8s - loss: 0.1928\n",
      "Epoch 15/15\n",
      " - 8s - loss: 0.1918\n"
     ]
    },
    {
     "data": {
      "text/plain": [
       "<keras.callbacks.History at 0x7f870740e240>"
      ]
     },
     "execution_count": 23,
     "metadata": {},
     "output_type": "execute_result"
    }
   ],
   "source": [
    "# 训练\n",
    "positive_samples_per_batch = 512\n",
    "\n",
    "model.fit_generator(\n",
    "    batchifier(pairs, positive_samples=positive_samples_per_batch, negative_ratio=10),\n",
    "    epochs=15,\n",
    "    steps_per_epoch=len(pairs) // positive_samples_per_batch,\n",
    "    verbose=2\n",
    ")"
   ]
  },
  {
   "cell_type": "code",
   "execution_count": 45,
   "metadata": {},
   "outputs": [
    {
     "name": "stdout",
     "output_type": "stream",
     "text": [
      "10000\n",
      "29 Rogue One 1.0\n",
      "143 Iron Man 3 0.899117\n",
      "594 Dredd 0.886196\n",
      "3349 Star Wars: The Force Awakens 0.886008\n",
      "154 Star Trek (film) 0.882786\n",
      "86 Tomorrowland (film) 0.881801\n",
      "22 Jurassic World 0.875209\n",
      "34 Doctor Strange (film) 0.874467\n",
      "398 Ben-Hur (2016 film) 0.871439\n",
      "116 Guardians of the Galaxy Vol. 2 0.869713\n"
     ]
    }
   ],
   "source": [
    "# 使用电影名的embedding权重矩阵来计算相似度\n",
    "\n",
    "# 获取权重 movie_weights。其中第一列\n",
    "movie = model.get_layer('movie_embedding')\n",
    "# movie.get_weights()返回一个数组，这个数组只有一个元素，即一个np矩阵，尺寸是(10000, 50)\n",
    "# print(movie.get_weights())\n",
    "# print(movie.get_weights()[0])\n",
    "# print(movie.get_weights()[0].shape)\n",
    "\n",
    "# movie_weights是尺寸为(10000, 50)的np矩阵\n",
    "movie_weights = movie.get_weights()[0]\n",
    "# print(movie_weights.shape)\n",
    "\n",
    "# 求movie_weights行向量的范数movie_lengths\n",
    "movie_lengths = np.linalg.norm(movie_weights, axis=1)\n",
    "# movie_lengths是一个数组，有10000个元素，每个元素表示movie_weights的一个行向量的范数\n",
    "# print(len(movie_lengths))\n",
    "\n",
    "# 对(10000, 50)的movie_weights的10000个每个行向量进行归一。\n",
    "# 归一后的normalized_movies依然是(10000, 50)\n",
    "normalized_movies = (movie_weights.T / movie_lengths).T\n",
    "\n",
    "def similar_movies(movie):\n",
    "    # 这里的思想是，如果权重向量很接近。\n",
    "    # normalized_movies的每一行是一个电影向量。\n",
    "    # normalized_movies是（10000,50），normalized_movies[movie_to_idx[movie]]是（1,50）\n",
    "    # np.dot，第一个元素是矩阵，第二个元素是向量时，向量必须与矩阵的行向量同尺寸。\n",
    "    # 返回的dists尺寸为（1,10000），即一个数组，每个元素为该电影的权重与对应电影的权重的余弦距离\n",
    "    dists = np.dot(normalized_movies, normalized_movies[movie_to_idx[movie]])\n",
    "    closest = np.argsort(dists)[-10:]\n",
    "    for c in reversed(closest):\n",
    "        print(c, movies[c][0], dists[c])\n",
    "\n",
    "\n",
    "similar_movies('Rogue One')"
   ]
  },
  {
   "cell_type": "code",
   "execution_count": 25,
   "metadata": {},
   "outputs": [
    {
     "name": "stdout",
     "output_type": "stream",
     "text": [
      "261 George Lucas 1.0\n",
      "335 Jaws (film) 0.990468\n",
      "63 Star Wars 0.988193\n",
      "101 Mark Hamill 0.97913\n",
      "257 Princess Leia 0.977938\n",
      "323 American Society of Cinematographers 0.977316\n",
      "263 American Cinematographer 0.976752\n",
      "391 James Cameron 0.976021\n",
      "88 List of highest-grossing films 0.974867\n",
      "465 Category:Space adventure films 0.974092\n"
     ]
    }
   ],
   "source": [
    "# 使用链接的embedding权重矩阵来计算相似度\n",
    "\n",
    "link = model.get_layer('link_embedding')\n",
    "link_weights = link.get_weights()[0]\n",
    "link_lengths = np.linalg.norm(link_weights, axis=1)\n",
    "normalized_links = (link_weights.T / link_lengths).T\n",
    "\n",
    "def similar_links(link):\n",
    "    dists = np.dot(normalized_links, normalized_links[link_to_idx[link]])\n",
    "    closest = np.argsort(dists)[-10:]\n",
    "    for c in reversed(closest):\n",
    "        print(c, top_links[c], dists[c])\n",
    "\n",
    "similar_links('George Lucas')"
   ]
  },
  {
   "cell_type": "code",
   "execution_count": 48,
   "metadata": {},
   "outputs": [
    {
     "data": {
      "text/plain": [
       "(16, 50)"
      ]
     },
     "execution_count": 48,
     "metadata": {},
     "output_type": "execute_result"
    }
   ],
   "source": [
    "# 4.3 建立一个电影推荐系统\n",
    "# 以下是从滚石音乐上挑选出最好的几个电影和最差的几个电影，用来训练一个SVM来对10000个电影进行二分类：好电影还是坏电影。\n",
    "\n",
    "best = ['Star Wars: The Force Awakens', 'The Martian (film)', 'Tangerine (film)', 'Straight Outta Compton (film)',\n",
    "        'Brooklyn (film)', 'Carol (film)', 'Spotlight (film)']\n",
    "worst = ['American Ultra', 'The Cobbler (2014 film)', 'Entourage (film)', 'Fantastic Four (2015 film)',\n",
    "         'Get Hard', 'Hot Pursuit (2015 film)', 'Mortdecai (film)', 'Serena (2014 film)', 'Vacation (2015 film)']\n",
    "\n",
    "# X的尺寸是（16.50），是16个样本，每个样本的特征是50维的embeding code\n",
    "# y的尺寸是（1，16），是16个label，1为best，0位worst\n",
    "y = np.asarray([1 for _ in best] + [0 for _ in worst])\n",
    "X = np.asarray([normalized_movies[movie_to_idx[movie]] for movie in best + worst])\n",
    "y.shape\n",
    "X.shape"
   ]
  },
  {
   "cell_type": "code",
   "execution_count": 27,
   "metadata": {},
   "outputs": [
    {
     "data": {
      "text/plain": [
       "SVC(C=1.0, cache_size=200, class_weight=None, coef0=0.0,\n",
       "  decision_function_shape='ovr', degree=3, gamma='auto_deprecated',\n",
       "  kernel='linear', max_iter=-1, probability=False, random_state=None,\n",
       "  shrinking=True, tol=0.001, verbose=False)"
      ]
     },
     "execution_count": 27,
     "metadata": {},
     "output_type": "execute_result"
    }
   ],
   "source": [
    "clf = svm.SVC(kernel='linear')\n",
    "clf.fit(X, y) "
   ]
  },
  {
   "cell_type": "code",
   "execution_count": 52,
   "metadata": {},
   "outputs": [
    {
     "name": "stdout",
     "output_type": "stream",
     "text": [
      "(10000,)\n",
      "[-0.17705357  1.34714494 -0.11209062  1.03456731 -0.35814895 -0.74468167\n",
      "  1.48614916  0.32658395 -0.80054279  0.59699587]\n",
      "best:\n",
      "6 The Martian (film) 1.48614916127\n",
      "18 Star Wars (film) 1.41036292161\n",
      "1 The Revenant (2015 film) 1.34714493871\n",
      "149 12 Years a Slave (film) 1.34635203097\n",
      "249 Zero Dark Thirty 1.30857691226\n",
      "worst:\n",
      "1594 Marvel Animated Features -2.00419661771\n",
      "5248 The Death and Return of Superman (film) -1.99803400329\n",
      "2583 Wonder Woman (2009 film) -1.90871988026\n",
      "136 Justice League vs. Teen Titans -1.90354707261\n",
      "590 Batman vs. Robin -1.8804592811\n"
     ]
    }
   ],
   "source": [
    "# estimated_movie_ratings是一个10000个元素的数组，每个元素是一个在0附近的正负数字，正数是偏好电影，负数是偏坏电影。\n",
    "estimated_movie_ratings = clf.decision_function(normalized_movies)\n",
    "# print(estimated_movie_ratings.shape)\n",
    "# print(estimated_movie_ratings[:10])\n",
    "best = np.argsort(estimated_movie_ratings)\n",
    "print('best:')\n",
    "for c in reversed(best[-5:]):\n",
    "    print(c, movies[c][0], estimated_movie_ratings[c])\n",
    "\n",
    "print('worst:')\n",
    "for c in best[:5]:\n",
    "    print(c, movies[c][0], estimated_movie_ratings[c])\n"
   ]
  },
  {
   "cell_type": "code",
   "execution_count": 56,
   "metadata": {},
   "outputs": [
    {
     "name": "stdout",
     "output_type": "stream",
     "text": [
      "rotten_y= (5584,)\n",
      "rotten_y= [ 0.84  0.82  0.26 ...,  0.61  0.88  0.78]\n",
      "rotten_X= (5584, 50)\n",
      "rotten_X= [[ 0.0309057   0.05209945  0.11491837 ..., -0.06788826  0.01189026\n",
      "  -0.07101428]\n",
      " [ 0.07880992 -0.23054722 -0.0648933  ..., -0.03520303 -0.03218396\n",
      "  -0.13086152]\n",
      " [-0.01477511  0.07637411  0.05323059 ..., -0.05893263  0.10880828\n",
      "   0.02577976]\n",
      " ..., \n",
      " [ 0.3468723  -0.05134117 -0.10196491 ..., -0.0131903  -0.0956804\n",
      "  -0.04999214]\n",
      " [ 0.19045651 -0.01533264 -0.07171088 ...,  0.05341569 -0.01883958\n",
      "  -0.06074876]\n",
      " [ 0.29558405 -0.07350324 -0.13684413 ...,  0.06172496 -0.03990439\n",
      "  -0.11718053]]\n"
     ]
    }
   ],
   "source": [
    "# 4.4 预测电影属性\n",
    "\n",
    "# 1. 预测评分\n",
    "\n",
    "\"\"\"上面已经提到了，这里重复一遍。\n",
    "movies是一个全量数据的数组\n",
    "其中的每个元素movie，形如下面。其中\n",
    "第1个元素为电影名;\n",
    "第2个元素是字典;\n",
    "第3个元素是数组，包括很多实体名；\n",
    "第4个元素一个百分率；\n",
    "第5个元素是日期。\n",
    "['Deadpool (film)', \n",
    " {'gross': '$783.1 million', 'country': 'United States', 'runtime': '108 minutes', 'caption': 'Theatrical release poster', 'budget': '$58 million', 'Software Used': 'Adobe Premier Pro', 'cinematography': 'Ken Seng', 'director': 'Tim Miller', 'language': 'English', 'editing': 'Julian Clarke', 'alt': \"Official poster shows the titular hero Deadpool standing in front of the viewers, with hugging his hands, and donning his traditional black and red suit and mask, and the film's name, credits and billing below him.\", 'music': 'Tom Holkenborg', 'name': 'Deadpool', 'image': 'Deadpool poster.jpg', 'distributor': '20th Century Fox'}, \n",
    " ['Tim Miller (director)', 'Simon Kinberg', 'Ryan Reynolds', 'Lauren Shuler Donner', 'Rhett Reese', 'Paul Wernick', 'Deadpool', 'Fabian Nicieza', 'Rob Liefeld', 'Morena Baccarin', 'Ed Skrein', 'T.J. Miller', 'Gina Carano', 'Leslie Uggams', 'Brianna Hildebrand', 'Stefan Kapičić', 'Junkie XL', 'Julian Clarke', 'Marvel Entertainment', 'Kinberg Genre', 'Lauren Shuler Donner', 'TSG Entertainment', '20th Century Fox', 'Le Grand Rex', 'Variety (magazine)', 'Box Office Mojo', 'superhero film', 'Tim Miller (director)', 'Rhett Reese', 'Paul Wernick', 'Marvel Comics', 'Deadpool', 'X-Men (film series)', 'Ryan Reynolds', 'Morena Baccarin', 'Ed Skrein', 'T.J. Miller', 'Gina Carano', 'Leslie Uggams', 'Brianna Hildebrand', 'Stefan Kapičić', 'antihero', 'New Line Cinema', '20th Century Fox', 'X-Men Origins: Wolverine', 'principal photography', 'Vancouver', 'IMAX', 'Digital Light Processing', 'D-Box Technologies', 'List of accolades received by Deadpool (film)', 'Golden Globe Award', 'Golden Globe Award for Best Motion Picture – Musical or Comedy', 'Golden Globe Award for Best Actor – Motion Picture Musical or Comedy', 'Producers Guild of America Award', \"Critics' Choice Movie Awards\", \"Critics' Choice Movie Award for Best Comedy\", \"Critics' Choice Movie Award for Best Actor in a Comedy\", '2016 in film', '#Sequels', 'nonlinear narrative', 'Deadpool', 'special forces', 'Copycat (Marvel Comics)', 'Liver cancer', 'Lung cancer', 'Prostate cancer', 'Brain tumor', 'Ajax (comics)#Deadpool character', 'Angel Dust (comics)', 'healing factor', 'rebar', 'Weasel (Marvel Comics)', 'Blind Al', 'Colossus (comics)', 'Negasonic Teenage Warhead', 'X-Men', 'helicarrier', 'post-credits scene', 'Cable (comics)', 'File:Cast of Deadpool.jpg', 'San Diego Comic-Con', 'Ryan Reynolds', 'Deadpool', 'cancer', 'X-Men Origins: Wolverine', 'fourth wall', 'Morena Baccarin', 'Copycat (Marvel Comics)', 'damsel in distress', 'Ed Skrein', 'Ajax (comics)#Deadpool character', 'Weapon X', 'YouTube', 'Tim Miller (director)', 'T.J. Miller', 'Weasel (Marvel Comics)', 'Simon Kinberg', 'USA Today', 'Gina Carano', 'Angel Dust (comics)', 'Leslie Uggams', 'Blind Al', 'Indiewire', 'Brianna Hildebrand', 'Negasonic Teenage Warhead', 'X-Men', 'Marvel Studios', 'Kevin Feige', 'Ego the Living Planet', 'Guardians of the Galaxy Vol. 2', 'Stefan Kapičić', 'Colossus (comics)', 'Daniel Cudmore', 'X2 (film)', 'X-Men: The Last Stand', 'X-Men: Days of Future Past', 'Andre Tricoteux', 'Karan Soni', 'Jed Rees', 'Agent Smith', 'Stan Lee', 'Rob Liefeld', 'Isaac C. Singleton Jr.', 'Bob, Agent of Hydra', 'Hydra (comics)', 'Nathan Fillion', 'Twitter', 'Simon Kinberg', 'Artisan Entertainment', 'Marvel Entertainment', 'Deadpool', 'New Line Cinema', 'David S. Goyer', 'Ryan Reynolds', 'Shar Pei', 'Cable & Deadpool', 'Turnaround (filmmaking)', 'X-Men Origins: Wolverine', 'Lauren Shuler Donner', 'Reboot (fiction)', 'fourth wall', 'Rhett Reese', 'Paul Wernick', 'Robert Rodriguez', 'Tim Miller (director)', 'Adam Berg (director)', 'Blur Studio', 'James Cameron', 'David Fincher', 'development hell', 'Garrison Kane', 'Cannonball (comics)', 'Computer-generated imagery', 'Hillbilly', 'Wyre (comics)', 'Angel Dust (comics)', 'Cable (comics)', 'List of directorial debuts', 'Colossus (comics)', 'Simon Kinberg', 'The Hollywood Reporter', 'T. J. Miller', 'Ed Skrein', 'Gina Carano', 'Angel Dust (comics)', 'Morena Baccarin', 'Taylor Schilling', 'Crystal Reed', 'Rebecca Rittenhouse', 'Sarah Greene (actress)', 'Jessica De Gouw', 'Weasel (Marvel Comics)', 'Copycat (Marvel Comics)', 'Brianna Hildebrand', 'Negasonic Teenage Warhead', 'Ajax (comics)#Deadpool character', 'Leslie Uggams', 'Blind Al', 'Jed Rees', 'Stefan Kapičić', 'Colossus (comics)', 'Daniel Cudmore', 'Twitter', 'File:Deadpool, Georgia Viaduct, Vancouver, April 6 2015 - 3.jpg', 'Rolling Stone', 'Principal photography', 'Vancouver', 'stunt coordinator', 'CBC News', 'David Cronenberg', 'Eastern Promises', 'Yahoo! Movies', 'Digital Domain', 'Weta Digital', 'Rodeo FX', 'Luma Pictures', 'Image Engine', 'Adobe Systems', 'matte paintings', 'helicarrier', 'Detroit', 'Chicago', 'File:Colossus - mocap.jpg', 'Colossus (comics)', 'Computer-generated imagery', 'Digital Domain', 'Cold-formed steel', 'Hot working', 'Taxicab', 'Junkie XL', 'ARP 2600', 'Synclavier', 'Oberheim Electronics#Oberheim polyphonic synthesizers', 'io9', 'YouTube personality', 'Deadpool (video game)', 'Milan Records', 'Grand Rex', 'IMAX', 'Digital Light Processing', 'D-Box Technologies', 'The Hollywood Reporter', 'Uzbekistan', 'Central Board of Film Certification', 'The Hollywood Reporter', 'Hong Kong', 'Singapore', 'standing ovation', 'The Hollywood Reporter', 'Meta-joke', 'Business Insider', 'viral marketing', 'Christmas', \"Valentine's Day\", 'io9', 'emoji', 'YouTube', 'Screen Junkies', 'The Guardian', 'Blu-ray', '2016 in film', 'The Matrix Reloaded', 'Forbes', 'Variety (magazine)', 'X-Men: Days of Future Past', 'Deadline.com', 'James Cameron', 'George Lucas', 'Star Wars: Episode III – Revenge of the Sith', 'The Dark Knight Rises', 'The Hollywood Reporter', 'IMAX', '3D film', 'Los Angeles Times', 'Yahoo!', 'Variety (magazine)', 'Forbes (magazine)', \"Presidents' Day (United States)\", 'Zoolander 2', 'How to Be Single', 'The Hollywood Reporter', 'Deadline.com', 'Variety (magazine)', 'Guardians of the Galaxy (film)', 'Captain America: The Winter Soldier', 'The Hollywood Reporter', 'Deadline.com', 'R-rated', 'The Hangover Part II', 'Fifty Shades of Grey (film)', 'The Hollywood Reporter', 'Deadline.com', 'word of mouth', 'Star Wars: Episode III – Revenge of the Sith', 'Forbes', 'Century Theatres', 'Deadline.com', 'The Hollywood Reporter', 'The Avengers (2012 film)', 'The Hunger Games (film)', 'Forbes (magazine)', 'Furious 7', 'Alice in Wonderland (2010 film)', 'Wanted (2008 film)', 'Watchmen (film)', 'The Vow (2012 film)', 'X-Men (film)', 'X-Men: First Class', 'The Wolverine (film)', 'X-Men Origins: Wolverine', 'Deadline.com', 'Second weekend in box office performance', 'Avengers: Age of Ultron', 'X-Men: The Last Stand', '300 (film)', 'Forbes', 'The Passion of the Christ', 'Forbes', 'Zootopia', 'London Has Fallen', 'Non-Hispanic whites', 'Hispanic', 'African-American', 'Asian Americans', 'Guardians of the Galaxy (film)', 'Captain America: Civil War', 'Avengers: Age of Ultron', 'Batman v Superman: Dawn of Justice', 'Suicide Squad (film)', 'The Hollywood Reporter', 'Spectre (2015)', 'United Kingdom and Ireland', 'Chinese New Year', 'Hong Kong', 'Singapore', 'The Mermaid (2016 film)', 'Deadline.com', 'Ip Man 3', 'Zootopia', 'Iron Man 3', 'Star Wars: The Force Awakens', 'Rotten Tomatoes', 'Rotten Tomatoes', 'Metacritic', 'CinemaScore', 'Peter Travers', 'Rolling Stone', 'Rolling Stone', 'TheWrap', 'Alonso Duralde', 'Guardians of the Galaxy (film)', 'Christy Lemire', 'Richard Roeper', 'Chicago Sun-Times', 'Kenneth Turan', 'Los Angeles Times', 'Los Angeles Times', 'The Hollywood Reporter', 'Deadline.com', 'Spider-Man', 'Superhero Hype', '/Film', 'Domino (comics)', 'TheWrap', 'Mashable', 'David Leitch (filmmaker)', 'Rupert Sanders', 'Drew Goddard', 'Mashable', 'X-Force', 'Hugh Jackman', 'Twitter', 'Variety (magazine)', 'The Hollywood Reporter', 'British Board of Film Classification', 'Los Angeles Times', 'Variety (magazine)', 'MTV News', 'Empire (film magazine)', 'The Hollywood Reporter', 'Variety (magazine)', 'The Daily Dot', 'Bleeding Cool', 'The Hollywood Reporter', 'TheWrap', 'The Hollywood Reporter', 'Variety (magazine)', 'Entertainment Weekly', 'Deadline.com', 'MTV News', 'Deadline.com', 'Business Insider', 'The Hollywood Reporter', 'Twitter', 'Empire (magazine)', 'fxguide', 'Category:20th Century Fox films', 'Category:2010s action films', 'Category:2010s comedy films', 'Category:2010s superhero films', 'Category:2016 films', 'Category:American action comedy films', 'Category:American black comedy films', 'Category:American films', 'Category:Deadpool', 'Category:Directorial debut films', 'Category:English-language films', 'Category:Film scores by Junkie XL', 'Category:Film spin-offs', 'Category:Films about cancer', 'Category:Films about revenge', 'Category:Films directed by Tim Miller', 'Category:Films set in New York', 'Category:Films shot in Vancouver', 'Category:Films with live action and animation', 'Category:Human experimentation in fiction', 'Category:IMAX films', 'Category:Metafictional works', 'Category:Nonlinear narrative films', 'Category:Performance capture in film', 'Category:Self-reflexive films', 'Category:Superhero comedy films', 'Category:Vigilante films', 'Category:X-Men films'], \n",
    " '84%', \n",
    " '6.9/10']\n",
    "\"\"\"\n",
    "# movie[-2] 是评分，越高代表越好。\n",
    "\n",
    "#  rotten_y的尺寸是（5584，），rotten_X的尺寸是(5584, 50)\n",
    "rotten_y = np.asarray([float(movie[-2][:-1]) / 100 for movie in movies if movie[-2]])\n",
    "rotten_X = np.asarray([normalized_movies[movie_to_idx[movie[0]]] for movie in movies if movie[-2]])\n",
    "# print('rotten_y=',rotten_y.shape)\n",
    "# print('rotten_y=',rotten_y)\n",
    "# print('rotten_X=',rotten_X.shape)\n",
    "# print('rotten_X=',rotten_X)"
   ]
  },
  {
   "cell_type": "code",
   "execution_count": 30,
   "metadata": {},
   "outputs": [
    {
     "data": {
      "text/plain": [
       "LinearRegression(copy_X=True, fit_intercept=True, n_jobs=None,\n",
       "         normalize=False)"
      ]
     },
     "execution_count": 30,
     "metadata": {},
     "output_type": "execute_result"
    }
   ],
   "source": [
    "# 用0.8比例的数据训练一个线性回归器\n",
    "TRAINING_CUT_OFF = int(len(rotten_X) * 0.8)\n",
    "regr = LinearRegression()\n",
    "regr.fit(rotten_X[:TRAINING_CUT_OFF], rotten_y[:TRAINING_CUT_OFF])"
   ]
  },
  {
   "cell_type": "code",
   "execution_count": 31,
   "metadata": {},
   "outputs": [
    {
     "data": {
      "text/plain": [
       "'mean square error 0.08'"
      ]
     },
     "execution_count": 31,
     "metadata": {},
     "output_type": "execute_result"
    }
   ],
   "source": [
    "# 测试集的MSE\n",
    "error = (regr.predict(rotten_X[TRAINING_CUT_OFF:]) - rotten_y[TRAINING_CUT_OFF:])\n",
    "'mean square error %2.2f' % np.mean(error ** 2)"
   ]
  },
  {
   "cell_type": "code",
   "execution_count": 32,
   "metadata": {},
   "outputs": [
    {
     "data": {
      "text/plain": [
       "'mean square error 0.09'"
      ]
     },
     "execution_count": 32,
     "metadata": {},
     "output_type": "execute_result"
    }
   ],
   "source": [
    "# 粗暴地用训练集的均值来作为预测值，计算MSE\n",
    "# 看起来线性回归是真的能预测一点点作用。\n",
    "error = (np.mean(rotten_y[:TRAINING_CUT_OFF]) - rotten_y[TRAINING_CUT_OFF:])\n",
    "'mean square error %2.2f' % np.mean(error ** 2)"
   ]
  },
  {
   "cell_type": "code",
   "execution_count": 65,
   "metadata": {},
   "outputs": [
    {
     "name": "stdout",
     "output_type": "stream",
     "text": [
      "movie_gross.shape= 10000\n",
      "movie_gross= [783.1, 533.0, 745.6, 880.7, None, 433.7, 630.2, 10900.0, 4300.0, 155.8]\n",
      "movies_lite.shape= 2992\n",
      "movie_gross.shape= (2992,)\n",
      "movie_gross= [   783.1    533.     745.6    880.7    433.7    630.2  10900.    4300.\n",
      "    155.8    966.6]\n",
      "highest= [2251   19 1906   30   36  162   71   49    7    6]\n",
      "6 List of Marvel Cinematic Universe films 10900.0\n",
      "7 X-Men (film series) 4300.0\n",
      "49 The Fast and the Furious 3900.0\n",
      "71 The Hobbit (film series) 2932.0\n",
      "162 The Dark Knight Trilogy 2464.0\n",
      "36 The Hunger Games (film series) 2340.0\n",
      "30 Titanic (1997 film) 2187.0\n",
      "1906 Star Wars: The Force Awakens 2068.0\n",
      "19 Jurassic World 1670.0\n",
      "2251 Men in Black (film series) 1655.0\n"
     ]
    }
   ],
   "source": [
    "\n",
    "# 2. 预测票房\n",
    "\n",
    "# 抽取并单位化票房\n",
    "def gross(movie):\n",
    "    v = movie[1].get('gross')\n",
    "    if not v or not ' ' in v:\n",
    "        return None\n",
    "    v, unit = v.split(' ', 1)\n",
    "    unit = unit.lower()\n",
    "    if not unit in ('million', 'billion'):\n",
    "        return None\n",
    "    if not v.startswith('$'):\n",
    "        return None\n",
    "    try:\n",
    "        v = float(v[1:])\n",
    "    except ValueError:\n",
    "        return None\n",
    "    if unit == 'billion':\n",
    "        v *= 1000\n",
    "    return v\n",
    "\n",
    "# 对movies里所有电影票房进行抽取，形成一个电影票房的数组movie_gross是一个电影票房\n",
    "movie_gross = [gross(m) for m in movies]\n",
    "print('movie_gross.shape=',len(movie_gross))\n",
    "print('movie_gross=',movie_gross[:10])\n",
    "movie_gross_lite = np.asarray([gr for gr in movie_gross if gr is not None])\n",
    "movies_lite=[movie for movie,gr in zip(movies,movie_gross) if gr is not None]\n",
    "print('movies_lite.shape=',len(movies_lite))\n",
    "print('movie_gross.shape=',movie_gross_lite.shape)\n",
    "print('movie_gross=',movie_gross_lite[:10])\n",
    "# argsort由低到高排序，把索引返回，并截取最后10个，即[2251   19 1906   30   36  162   71   49    7    6]\n",
    "# 所以索引6是最高票房的电影\n",
    "highest = np.argsort(movie_gross_lite)[-10:]\n",
    "print('highest=',highest)\n",
    "for c in reversed(highest):\n",
    "    print(c, movies_lite[c][0], movie_gross_lite[c])"
   ]
  },
  {
   "cell_type": "code",
   "execution_count": 66,
   "metadata": {},
   "outputs": [
    {
     "name": "stdout",
     "output_type": "stream",
     "text": [
      "rotten_y= (5584,)\n",
      "rotten_y= [ 0.84  0.82  0.26 ...,  0.61  0.88  0.78]\n",
      "rotten_X= (5584, 50)\n",
      "rotten_X= [[ 0.0309057   0.05209945  0.11491837 ..., -0.06788826  0.01189026\n",
      "  -0.07101428]\n",
      " [ 0.07880992 -0.23054722 -0.0648933  ..., -0.03520303 -0.03218396\n",
      "  -0.13086152]\n",
      " [-0.01477511  0.07637411  0.05323059 ..., -0.05893263  0.10880828\n",
      "   0.02577976]\n",
      " ..., \n",
      " [ 0.3468723  -0.05134117 -0.10196491 ..., -0.0131903  -0.0956804\n",
      "  -0.04999214]\n",
      " [ 0.19045651 -0.01533264 -0.07171088 ...,  0.05341569 -0.01883958\n",
      "  -0.06074876]\n",
      " [ 0.29558405 -0.07350324 -0.13684413 ...,  0.06172496 -0.03990439\n",
      "  -0.11718053]]\n"
     ]
    }
   ],
   "source": [
    "gross_y = np.asarray([gr for gr in movie_gross if gr])\n",
    "gross_X = np.asarray([normalized_movies[movie_to_idx[movie[0]]] for movie, gr in zip(movies, movie_gross) if gr])\n",
    "print('rotten_y=',rotten_y.shape)\n",
    "print('rotten_y=',rotten_y)\n",
    "print('rotten_X=',rotten_X.shape)\n",
    "print('rotten_X=',rotten_X)"
   ]
  },
  {
   "cell_type": "code",
   "execution_count": 67,
   "metadata": {},
   "outputs": [
    {
     "data": {
      "text/plain": [
       "LinearRegression(copy_X=True, fit_intercept=True, n_jobs=None,\n",
       "         normalize=False)"
      ]
     },
     "execution_count": 67,
     "metadata": {},
     "output_type": "execute_result"
    }
   ],
   "source": [
    "TRAINING_CUT_OFF = int(len(gross_X) * 0.8)\n",
    "regr = LinearRegression()\n",
    "regr.fit(gross_X[:TRAINING_CUT_OFF], gross_y[:TRAINING_CUT_OFF])"
   ]
  },
  {
   "cell_type": "code",
   "execution_count": 68,
   "metadata": {},
   "outputs": [
    {
     "data": {
      "text/plain": [
       "'mean square error 7474.45'"
      ]
     },
     "execution_count": 68,
     "metadata": {},
     "output_type": "execute_result"
    }
   ],
   "source": [
    "error = (regr.predict(gross_X[TRAINING_CUT_OFF:]) - gross_y[TRAINING_CUT_OFF:])\n",
    "'mean square error %2.2f' % np.mean(error ** 2)"
   ]
  },
  {
   "cell_type": "code",
   "execution_count": 69,
   "metadata": {},
   "outputs": [
    {
     "data": {
      "text/plain": [
       "'mean square error 14115.59'"
      ]
     },
     "execution_count": 69,
     "metadata": {},
     "output_type": "execute_result"
    }
   ],
   "source": [
    "# 用训练集平均值来预测，可见确实比上面线性回归预测的差得多\n",
    "error = (np.mean(gross_y[:TRAINING_CUT_OFF]) - gross_y[TRAINING_CUT_OFF:])\n",
    "'mean square error %2.2f' % np.mean(error ** 2)"
   ]
  },
  {
   "cell_type": "code",
   "execution_count": null,
   "metadata": {},
   "outputs": [],
   "source": []
  }
 ],
 "metadata": {
  "kernelspec": {
   "display_name": "Python 3",
   "language": "python",
   "name": "python3"
  },
  "language_info": {
   "codemirror_mode": {
    "name": "ipython",
    "version": 3
   },
   "file_extension": ".py",
   "mimetype": "text/x-python",
   "name": "python",
   "nbconvert_exporter": "python",
   "pygments_lexer": "ipython3",
   "version": "3.5.2"
  }
 },
 "nbformat": 4,
 "nbformat_minor": 1
}
