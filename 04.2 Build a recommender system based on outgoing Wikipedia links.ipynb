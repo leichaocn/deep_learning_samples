{
 "cells": [
  {
   "cell_type": "code",
   "execution_count": 17,
   "metadata": {},
   "outputs": [],
   "source": [
    "import json\n",
    "from collections import Counter\n",
    "from keras.models import Model\n",
    "from keras.layers import Embedding, Input, Reshape\n",
    "from keras.layers.merge import Dot\n",
    "from sklearn.linear_model import LinearRegression\n",
    "import numpy as np\n",
    "import random\n",
    "import os\n",
    "from sklearn import svm\n",
    "from keras.utils.vis_utils import plot_model"
   ]
  },
  {
   "cell_type": "code",
   "execution_count": 18,
   "metadata": {},
   "outputs": [],
   "source": [
    "my_path=os.getcwd()+\"/\"\n",
    "with open(my_path+'data/wp_movies_10k.ndjson') as fin:\n",
    "    movies = [json.loads(l) for l in fin]"
   ]
  },
  {
   "cell_type": "code",
   "execution_count": 19,
   "metadata": {},
   "outputs": [
    {
     "data": {
      "text/plain": [
       "[('Deadline.com', 167),\n",
       " ('The Hollywood Reporter', 167),\n",
       " ('Variety (magazine)', 139),\n",
       " ('Forbes', 91),\n",
       " ('Marvel Comics', 54),\n",
       " ('Los Angeles Times', 46),\n",
       " ('Rotten Tomatoes', 44),\n",
       " ('Metacritic', 44),\n",
       " ('Entertainment Weekly', 43),\n",
       " ('The Guardian', 38)]"
      ]
     },
     "execution_count": 19,
     "metadata": {},
     "output_type": "execute_result"
    }
   ],
   "source": [
    "\n",
    "\"\"\"\n",
    "movies是一个全量数据的数组\n",
    "其中的每个元素movie，形如下面。其中\n",
    "第1个元素为电影名;\n",
    "第2个元素是字典;\n",
    "第3个元素是数组，包括很多实体名；\n",
    "第4个元素一个百分率；\n",
    "第5个元素是日期。\n",
    "['Deadpool (film)', \n",
    " {'gross': '$783.1 million', 'country': 'United States', 'runtime': '108 minutes', 'caption': 'Theatrical release poster', 'budget': '$58 million', 'Software Used': 'Adobe Premier Pro', 'cinematography': 'Ken Seng', 'director': 'Tim Miller', 'language': 'English', 'editing': 'Julian Clarke', 'alt': \"Official poster shows the titular hero Deadpool standing in front of the viewers, with hugging his hands, and donning his traditional black and red suit and mask, and the film's name, credits and billing below him.\", 'music': 'Tom Holkenborg', 'name': 'Deadpool', 'image': 'Deadpool poster.jpg', 'distributor': '20th Century Fox'}, \n",
    " ['Tim Miller (director)', 'Simon Kinberg', 'Ryan Reynolds', 'Lauren Shuler Donner', 'Rhett Reese', 'Paul Wernick', 'Deadpool', 'Fabian Nicieza', 'Rob Liefeld', 'Morena Baccarin', 'Ed Skrein', 'T.J. Miller', 'Gina Carano', 'Leslie Uggams', 'Brianna Hildebrand', 'Stefan Kapičić', 'Junkie XL', 'Julian Clarke', 'Marvel Entertainment', 'Kinberg Genre', 'Lauren Shuler Donner', 'TSG Entertainment', '20th Century Fox', 'Le Grand Rex', 'Variety (magazine)', 'Box Office Mojo', 'superhero film', 'Tim Miller (director)', 'Rhett Reese', 'Paul Wernick', 'Marvel Comics', 'Deadpool', 'X-Men (film series)', 'Ryan Reynolds', 'Morena Baccarin', 'Ed Skrein', 'T.J. Miller', 'Gina Carano', 'Leslie Uggams', 'Brianna Hildebrand', 'Stefan Kapičić', 'antihero', 'New Line Cinema', '20th Century Fox', 'X-Men Origins: Wolverine', 'principal photography', 'Vancouver', 'IMAX', 'Digital Light Processing', 'D-Box Technologies', 'List of accolades received by Deadpool (film)', 'Golden Globe Award', 'Golden Globe Award for Best Motion Picture – Musical or Comedy', 'Golden Globe Award for Best Actor – Motion Picture Musical or Comedy', 'Producers Guild of America Award', \"Critics' Choice Movie Awards\", \"Critics' Choice Movie Award for Best Comedy\", \"Critics' Choice Movie Award for Best Actor in a Comedy\", '2016 in film', '#Sequels', 'nonlinear narrative', 'Deadpool', 'special forces', 'Copycat (Marvel Comics)', 'Liver cancer', 'Lung cancer', 'Prostate cancer', 'Brain tumor', 'Ajax (comics)#Deadpool character', 'Angel Dust (comics)', 'healing factor', 'rebar', 'Weasel (Marvel Comics)', 'Blind Al', 'Colossus (comics)', 'Negasonic Teenage Warhead', 'X-Men', 'helicarrier', 'post-credits scene', 'Cable (comics)', 'File:Cast of Deadpool.jpg', 'San Diego Comic-Con', 'Ryan Reynolds', 'Deadpool', 'cancer', 'X-Men Origins: Wolverine', 'fourth wall', 'Morena Baccarin', 'Copycat (Marvel Comics)', 'damsel in distress', 'Ed Skrein', 'Ajax (comics)#Deadpool character', 'Weapon X', 'YouTube', 'Tim Miller (director)', 'T.J. Miller', 'Weasel (Marvel Comics)', 'Simon Kinberg', 'USA Today', 'Gina Carano', 'Angel Dust (comics)', 'Leslie Uggams', 'Blind Al', 'Indiewire', 'Brianna Hildebrand', 'Negasonic Teenage Warhead', 'X-Men', 'Marvel Studios', 'Kevin Feige', 'Ego the Living Planet', 'Guardians of the Galaxy Vol. 2', 'Stefan Kapičić', 'Colossus (comics)', 'Daniel Cudmore', 'X2 (film)', 'X-Men: The Last Stand', 'X-Men: Days of Future Past', 'Andre Tricoteux', 'Karan Soni', 'Jed Rees', 'Agent Smith', 'Stan Lee', 'Rob Liefeld', 'Isaac C. Singleton Jr.', 'Bob, Agent of Hydra', 'Hydra (comics)', 'Nathan Fillion', 'Twitter', 'Simon Kinberg', 'Artisan Entertainment', 'Marvel Entertainment', 'Deadpool', 'New Line Cinema', 'David S. Goyer', 'Ryan Reynolds', 'Shar Pei', 'Cable & Deadpool', 'Turnaround (filmmaking)', 'X-Men Origins: Wolverine', 'Lauren Shuler Donner', 'Reboot (fiction)', 'fourth wall', 'Rhett Reese', 'Paul Wernick', 'Robert Rodriguez', 'Tim Miller (director)', 'Adam Berg (director)', 'Blur Studio', 'James Cameron', 'David Fincher', 'development hell', 'Garrison Kane', 'Cannonball (comics)', 'Computer-generated imagery', 'Hillbilly', 'Wyre (comics)', 'Angel Dust (comics)', 'Cable (comics)', 'List of directorial debuts', 'Colossus (comics)', 'Simon Kinberg', 'The Hollywood Reporter', 'T. J. Miller', 'Ed Skrein', 'Gina Carano', 'Angel Dust (comics)', 'Morena Baccarin', 'Taylor Schilling', 'Crystal Reed', 'Rebecca Rittenhouse', 'Sarah Greene (actress)', 'Jessica De Gouw', 'Weasel (Marvel Comics)', 'Copycat (Marvel Comics)', 'Brianna Hildebrand', 'Negasonic Teenage Warhead', 'Ajax (comics)#Deadpool character', 'Leslie Uggams', 'Blind Al', 'Jed Rees', 'Stefan Kapičić', 'Colossus (comics)', 'Daniel Cudmore', 'Twitter', 'File:Deadpool, Georgia Viaduct, Vancouver, April 6 2015 - 3.jpg', 'Rolling Stone', 'Principal photography', 'Vancouver', 'stunt coordinator', 'CBC News', 'David Cronenberg', 'Eastern Promises', 'Yahoo! Movies', 'Digital Domain', 'Weta Digital', 'Rodeo FX', 'Luma Pictures', 'Image Engine', 'Adobe Systems', 'matte paintings', 'helicarrier', 'Detroit', 'Chicago', 'File:Colossus - mocap.jpg', 'Colossus (comics)', 'Computer-generated imagery', 'Digital Domain', 'Cold-formed steel', 'Hot working', 'Taxicab', 'Junkie XL', 'ARP 2600', 'Synclavier', 'Oberheim Electronics#Oberheim polyphonic synthesizers', 'io9', 'YouTube personality', 'Deadpool (video game)', 'Milan Records', 'Grand Rex', 'IMAX', 'Digital Light Processing', 'D-Box Technologies', 'The Hollywood Reporter', 'Uzbekistan', 'Central Board of Film Certification', 'The Hollywood Reporter', 'Hong Kong', 'Singapore', 'standing ovation', 'The Hollywood Reporter', 'Meta-joke', 'Business Insider', 'viral marketing', 'Christmas', \"Valentine's Day\", 'io9', 'emoji', 'YouTube', 'Screen Junkies', 'The Guardian', 'Blu-ray', '2016 in film', 'The Matrix Reloaded', 'Forbes', 'Variety (magazine)', 'X-Men: Days of Future Past', 'Deadline.com', 'James Cameron', 'George Lucas', 'Star Wars: Episode III – Revenge of the Sith', 'The Dark Knight Rises', 'The Hollywood Reporter', 'IMAX', '3D film', 'Los Angeles Times', 'Yahoo!', 'Variety (magazine)', 'Forbes (magazine)', \"Presidents' Day (United States)\", 'Zoolander 2', 'How to Be Single', 'The Hollywood Reporter', 'Deadline.com', 'Variety (magazine)', 'Guardians of the Galaxy (film)', 'Captain America: The Winter Soldier', 'The Hollywood Reporter', 'Deadline.com', 'R-rated', 'The Hangover Part II', 'Fifty Shades of Grey (film)', 'The Hollywood Reporter', 'Deadline.com', 'word of mouth', 'Star Wars: Episode III – Revenge of the Sith', 'Forbes', 'Century Theatres', 'Deadline.com', 'The Hollywood Reporter', 'The Avengers (2012 film)', 'The Hunger Games (film)', 'Forbes (magazine)', 'Furious 7', 'Alice in Wonderland (2010 film)', 'Wanted (2008 film)', 'Watchmen (film)', 'The Vow (2012 film)', 'X-Men (film)', 'X-Men: First Class', 'The Wolverine (film)', 'X-Men Origins: Wolverine', 'Deadline.com', 'Second weekend in box office performance', 'Avengers: Age of Ultron', 'X-Men: The Last Stand', '300 (film)', 'Forbes', 'The Passion of the Christ', 'Forbes', 'Zootopia', 'London Has Fallen', 'Non-Hispanic whites', 'Hispanic', 'African-American', 'Asian Americans', 'Guardians of the Galaxy (film)', 'Captain America: Civil War', 'Avengers: Age of Ultron', 'Batman v Superman: Dawn of Justice', 'Suicide Squad (film)', 'The Hollywood Reporter', 'Spectre (2015)', 'United Kingdom and Ireland', 'Chinese New Year', 'Hong Kong', 'Singapore', 'The Mermaid (2016 film)', 'Deadline.com', 'Ip Man 3', 'Zootopia', 'Iron Man 3', 'Star Wars: The Force Awakens', 'Rotten Tomatoes', 'Rotten Tomatoes', 'Metacritic', 'CinemaScore', 'Peter Travers', 'Rolling Stone', 'Rolling Stone', 'TheWrap', 'Alonso Duralde', 'Guardians of the Galaxy (film)', 'Christy Lemire', 'Richard Roeper', 'Chicago Sun-Times', 'Kenneth Turan', 'Los Angeles Times', 'Los Angeles Times', 'The Hollywood Reporter', 'Deadline.com', 'Spider-Man', 'Superhero Hype', '/Film', 'Domino (comics)', 'TheWrap', 'Mashable', 'David Leitch (filmmaker)', 'Rupert Sanders', 'Drew Goddard', 'Mashable', 'X-Force', 'Hugh Jackman', 'Twitter', 'Variety (magazine)', 'The Hollywood Reporter', 'British Board of Film Classification', 'Los Angeles Times', 'Variety (magazine)', 'MTV News', 'Empire (film magazine)', 'The Hollywood Reporter', 'Variety (magazine)', 'The Daily Dot', 'Bleeding Cool', 'The Hollywood Reporter', 'TheWrap', 'The Hollywood Reporter', 'Variety (magazine)', 'Entertainment Weekly', 'Deadline.com', 'MTV News', 'Deadline.com', 'Business Insider', 'The Hollywood Reporter', 'Twitter', 'Empire (magazine)', 'fxguide', 'Category:20th Century Fox films', 'Category:2010s action films', 'Category:2010s comedy films', 'Category:2010s superhero films', 'Category:2016 films', 'Category:American action comedy films', 'Category:American black comedy films', 'Category:American films', 'Category:Deadpool', 'Category:Directorial debut films', 'Category:English-language films', 'Category:Film scores by Junkie XL', 'Category:Film spin-offs', 'Category:Films about cancer', 'Category:Films about revenge', 'Category:Films directed by Tim Miller', 'Category:Films set in New York', 'Category:Films shot in Vancouver', 'Category:Films with live action and animation', 'Category:Human experimentation in fiction', 'Category:IMAX films', 'Category:Metafictional works', 'Category:Nonlinear narrative films', 'Category:Performance capture in film', 'Category:Self-reflexive films', 'Category:Superhero comedy films', 'Category:Vigilante films', 'Category:X-Men films'], \n",
    " '84%', \n",
    " '6.9/10']\n",
    "\"\"\"\n",
    "link_counts = Counter()\n",
    "for movie in movies[:20]:\n",
    "    # print(movie)\n",
    "    # print(\"#\"*20)\n",
    "    # link_counts是一个计数器对象，将统计所有实体名的出现次数。\n",
    "    link_counts.update(movie[2])\n",
    "# 显示出现频率最高的10个实体名。\n",
    "link_counts.most_common(10)"
   ]
  },
  {
   "cell_type": "code",
   "execution_count": 20,
   "metadata": {},
   "outputs": [
    {
     "name": "stdout",
     "output_type": "stream",
     "text": [
      "[(279, 0), (612, 0), (358, 0), (322, 0), (461, 0), (258, 0), (504, 0), (401, 0), (288, 0), (1, 0)]\n"
     ]
    },
    {
     "data": {
      "text/plain": [
       "(140940, 683, 10000)"
      ]
     },
     "execution_count": 20,
     "metadata": {},
     "output_type": "execute_result"
    }
   ],
   "source": [
    "# top_links数组，元素为所有出现三次以上的链接名\n",
    "top_links = [link for link, c in link_counts.items() if c >= 3]\n",
    "# link_to_idx是一个字典，用于存下所有连接名对应的top_links索引\n",
    "# 即top_links[link_to_idx[链接名]]即可拿到movie_to_idx[电影名]对应的movie元素\n",
    "link_to_idx = {link: idx for idx, link in enumerate(top_links)}\n",
    "# movie_to_idx是一个字典，用于存下所有电影名对应的movies索引\n",
    "# 即movies[movie_to_idx[电影名]]即可拿到movie_to_idx[电影名]对应的movie元素\n",
    "movie_to_idx = {movie[0]: idx for idx, movie in enumerate(movies)}\n",
    "pairs = []\n",
    "for movie in movies:\n",
    "    # 对于每一个movie，遍历其链接名\n",
    "    # 如果该链接名存在于link_to_idx中，就把该链接名的top_links索引，该电影名在movies中的索引，拼成元组，存下来。\n",
    "    pairs.extend((link_to_idx[link], movie_to_idx[movie[0]]) for link in movie[2] if link in link_to_idx)\n",
    "print(pairs[:10])\n",
    "pairs_set = set(pairs)\n",
    "# len(pairs)  总的索引对名，140940个\n",
    "# len(top_links),总的连接名 683个（指的是大于3次的高频链接）\n",
    "# len(movie_to_idx) 总共的电影名 10000个\n",
    "len(pairs), len(top_links), len(movie_to_idx)"
   ]
  },
  {
   "cell_type": "code",
   "execution_count": 21,
   "metadata": {},
   "outputs": [
    {
     "name": "stdout",
     "output_type": "stream",
     "text": [
      "__________________________________________________________________________________________________\n",
      "Layer (type)                    Output Shape         Param #     Connected to                     \n",
      "==================================================================================================\n",
      "link (InputLayer)               (None, 1)            0                                            \n",
      "__________________________________________________________________________________________________\n",
      "movie (InputLayer)              (None, 1)            0                                            \n",
      "__________________________________________________________________________________________________\n",
      "link_embedding (Embedding)      (None, 1, 50)        34150       link[0][0]                       \n",
      "__________________________________________________________________________________________________\n",
      "movie_embedding (Embedding)     (None, 1, 50)        500000      movie[0][0]                      \n",
      "__________________________________________________________________________________________________\n",
      "dot_product (Dot)               (None, 1, 1)         0           link_embedding[0][0]             \n",
      "                                                                 movie_embedding[0][0]            \n",
      "__________________________________________________________________________________________________\n",
      "reshape_3 (Reshape)             (None, 1)            0           dot_product[0][0]                \n",
      "==================================================================================================\n",
      "Total params: 534,150\n",
      "Trainable params: 534,150\n",
      "Non-trainable params: 0\n",
      "__________________________________________________________________________________________________\n"
     ]
    }
   ],
   "source": [
    "def movie_embedding_model(embedding_size=50):\n",
    "    link = Input(name='link', shape=(1,))\n",
    "    movie = Input(name='movie', shape=(1,))\n",
    "    link_embedding = Embedding(name='link_embedding', \n",
    "                               input_dim=len(top_links), \n",
    "                               output_dim=embedding_size)(link)\n",
    "    movie_embedding = Embedding(name='movie_embedding', \n",
    "                                input_dim=len(movie_to_idx), \n",
    "                                output_dim=embedding_size)(movie)\n",
    "    dot = Dot(name='dot_product', normalize=True, axes=2)([link_embedding, movie_embedding])\n",
    "    merged = Reshape((1,))(dot)\n",
    "    model = Model(inputs=[link, movie], outputs=[merged])\n",
    "    model.compile(optimizer='nadam', loss='mse')\n",
    "    return model\n",
    "\n",
    "model = movie_embedding_model()\n",
    "plot_model(model, to_file='movie_embedding_model.png',show_shapes=True)\n",
    "model.summary()"
   ]
  },
  {
   "cell_type": "code",
   "execution_count": 22,
   "metadata": {},
   "outputs": [
    {
     "name": "stdout",
     "output_type": "stream",
     "text": [
      "batch_size= 9\n"
     ]
    },
    {
     "data": {
      "text/plain": [
       "({'link': array([ 646.,  664.,  380.,  476.,  160.,  286.,  556.,  587.,  651.]),\n",
       "  'movie': array([ 3940.,  4080.,  1854.,   475.,   849.,  2040.,  6238.,  1670.,\n",
       "          9613.])},\n",
       " array([ 1., -1., -1., -1., -1.,  1., -1., -1.,  1.]))"
      ]
     },
     "execution_count": 22,
     "metadata": {},
     "output_type": "execute_result"
    }
   ],
   "source": [
    "random.seed(5)\n",
    "\n",
    "# 可参考博客 https://blog.csdn.net/ChenVast/article/details/83023326 的解释\n",
    "def batchifier(pairs, positive_samples=50, negative_ratio=10):\n",
    "    # 50个正样本，550个总样本（batch_size），推出500个负样本。\n",
    "    batch_size = positive_samples * (1 + negative_ratio)\n",
    "    print('batch_size=',batch_size)\n",
    "    # batch_size行，3列。\n",
    "    batch = np.zeros((batch_size, 3))\n",
    "    while True:\n",
    "        # 在pairs数组中，随机采样50个样本作为正例，并把二元组扩充成三元组，第三元为label，标为1\n",
    "        for idx, (link_id, movie_id) in enumerate(random.sample(pairs, positive_samples)):\n",
    "            batch[idx, :] = (link_id, movie_id, 1)\n",
    "        # 原来是idx = positive_samples，改成下式更好理解。\n",
    "        idx = idx+1\n",
    "        \n",
    "        # 找出batch_size-positive_samples=500个负样本，\n",
    "        while idx < batch_size:\n",
    "            movie_id = random.randrange(len(movie_to_idx))\n",
    "            link_id = random.randrange(len(top_links))\n",
    "            if not (link_id, movie_id) in pairs_set:\n",
    "                batch[idx, :] = (link_id, movie_id, -1)\n",
    "                # 只有(link_id, movie_id)不在pairs_set中，才会idx才会累加。因此一定能找够500个负样本。\n",
    "                idx += 1\n",
    "        np.random.shuffle(batch)\n",
    "        # 第一个元素为feature字典，第二个元素为label。\n",
    "        # batch[:, i]是对第i列的读取。而之前写入batch[idx, :] 是对第idx行的写入。\n",
    "        yield {'link': batch[:, 0], 'movie': batch[:, 1]}, batch[:, 2]\n",
    "\n",
    "next(batchifier(pairs, positive_samples=3, negative_ratio=2))"
   ]
  },
  {
   "cell_type": "code",
   "execution_count": 23,
   "metadata": {},
   "outputs": [
    {
     "name": "stdout",
     "output_type": "stream",
     "text": [
      "batch_size= 5632\n",
      "Epoch 1/15\n",
      " - 9s - loss: 0.4160\n",
      "Epoch 2/15\n",
      " - 8s - loss: 0.1992\n",
      "Epoch 3/15\n",
      " - 8s - loss: 0.1940\n",
      "Epoch 4/15\n",
      " - 8s - loss: 0.1957\n",
      "Epoch 5/15\n",
      " - 8s - loss: 0.1942\n",
      "Epoch 6/15\n",
      " - 8s - loss: 0.1852\n",
      "Epoch 7/15\n",
      " - 8s - loss: 0.1858\n",
      "Epoch 8/15\n",
      " - 8s - loss: 0.1840\n",
      "Epoch 9/15\n",
      " - 8s - loss: 0.1854\n",
      "Epoch 10/15\n",
      " - 8s - loss: 0.1845\n",
      "Epoch 11/15\n",
      " - 8s - loss: 0.1911\n",
      "Epoch 12/15\n",
      " - 8s - loss: 0.1915\n",
      "Epoch 13/15\n",
      " - 8s - loss: 0.1937\n",
      "Epoch 14/15\n",
      " - 8s - loss: 0.1928\n",
      "Epoch 15/15\n",
      " - 8s - loss: 0.1918\n"
     ]
    },
    {
     "data": {
      "text/plain": [
       "<keras.callbacks.History at 0x7f870740e240>"
      ]
     },
     "execution_count": 23,
     "metadata": {},
     "output_type": "execute_result"
    }
   ],
   "source": [
    "positive_samples_per_batch = 512\n",
    "\n",
    "model.fit_generator(\n",
    "    batchifier(pairs, positive_samples=positive_samples_per_batch, negative_ratio=10),\n",
    "    epochs=15,\n",
    "    steps_per_epoch=len(pairs) // positive_samples_per_batch,\n",
    "    verbose=2\n",
    ")"
   ]
  },
  {
   "cell_type": "code",
   "execution_count": 24,
   "metadata": {},
   "outputs": [
    {
     "name": "stdout",
     "output_type": "stream",
     "text": [
      "29 Rogue One 1.0\n",
      "143 Iron Man 3 0.899117\n",
      "594 Dredd 0.886196\n",
      "3349 Star Wars: The Force Awakens 0.886008\n",
      "154 Star Trek (film) 0.882786\n",
      "86 Tomorrowland (film) 0.881801\n",
      "22 Jurassic World 0.875209\n",
      "34 Doctor Strange (film) 0.874467\n",
      "398 Ben-Hur (2016 film) 0.871439\n",
      "116 Guardians of the Galaxy Vol. 2 0.869713\n"
     ]
    }
   ],
   "source": [
    "movie = model.get_layer('movie_embedding')\n",
    "movie_weights = movie.get_weights()[0]\n",
    "movie_lengths = np.linalg.norm(movie_weights, axis=1)\n",
    "normalized_movies = (movie_weights.T / movie_lengths).T\n",
    "\n",
    "def similar_movies(movie):\n",
    "    dists = np.dot(normalized_movies, normalized_movies[movie_to_idx[movie]])\n",
    "    closest = np.argsort(dists)[-10:]\n",
    "    for c in reversed(closest):\n",
    "        print(c, movies[c][0], dists[c])\n",
    "\n",
    "similar_movies('Rogue One')"
   ]
  },
  {
   "cell_type": "code",
   "execution_count": 25,
   "metadata": {},
   "outputs": [
    {
     "name": "stdout",
     "output_type": "stream",
     "text": [
      "261 George Lucas 1.0\n",
      "335 Jaws (film) 0.990468\n",
      "63 Star Wars 0.988193\n",
      "101 Mark Hamill 0.97913\n",
      "257 Princess Leia 0.977938\n",
      "323 American Society of Cinematographers 0.977316\n",
      "263 American Cinematographer 0.976752\n",
      "391 James Cameron 0.976021\n",
      "88 List of highest-grossing films 0.974867\n",
      "465 Category:Space adventure films 0.974092\n"
     ]
    }
   ],
   "source": [
    "link = model.get_layer('link_embedding')\n",
    "link_weights = link.get_weights()[0]\n",
    "link_lengths = np.linalg.norm(link_weights, axis=1)\n",
    "normalized_links = (link_weights.T / link_lengths).T\n",
    "\n",
    "def similar_links(link):\n",
    "    dists = np.dot(normalized_links, normalized_links[link_to_idx[link]])\n",
    "    closest = np.argsort(dists)[-10:]\n",
    "    for c in reversed(closest):\n",
    "        print(c, top_links[c], dists[c])\n",
    "\n",
    "similar_links('George Lucas')"
   ]
  },
  {
   "cell_type": "code",
   "execution_count": 26,
   "metadata": {},
   "outputs": [
    {
     "data": {
      "text/plain": [
       "(16, 50)"
      ]
     },
     "execution_count": 26,
     "metadata": {},
     "output_type": "execute_result"
    }
   ],
   "source": [
    "best = ['Star Wars: The Force Awakens', 'The Martian (film)', 'Tangerine (film)', 'Straight Outta Compton (film)',\n",
    "        'Brooklyn (film)', 'Carol (film)', 'Spotlight (film)']\n",
    "worst = ['American Ultra', 'The Cobbler (2014 film)', 'Entourage (film)', 'Fantastic Four (2015 film)',\n",
    "         'Get Hard', 'Hot Pursuit (2015 film)', 'Mortdecai (film)', 'Serena (2014 film)', 'Vacation (2015 film)']\n",
    "y = np.asarray([1 for _ in best] + [0 for _ in worst])\n",
    "X = np.asarray([normalized_movies[movie_to_idx[movie]] for movie in best + worst])\n",
    "X.shape"
   ]
  },
  {
   "cell_type": "code",
   "execution_count": 27,
   "metadata": {},
   "outputs": [
    {
     "data": {
      "text/plain": [
       "SVC(C=1.0, cache_size=200, class_weight=None, coef0=0.0,\n",
       "  decision_function_shape='ovr', degree=3, gamma='auto_deprecated',\n",
       "  kernel='linear', max_iter=-1, probability=False, random_state=None,\n",
       "  shrinking=True, tol=0.001, verbose=False)"
      ]
     },
     "execution_count": 27,
     "metadata": {},
     "output_type": "execute_result"
    }
   ],
   "source": [
    "clf = svm.SVC(kernel='linear')\n",
    "clf.fit(X, y) "
   ]
  },
  {
   "cell_type": "code",
   "execution_count": 28,
   "metadata": {},
   "outputs": [
    {
     "name": "stdout",
     "output_type": "stream",
     "text": [
      "best:\n",
      "6 The Martian (film) 1.48614916127\n",
      "18 Star Wars (film) 1.41036292161\n",
      "1 The Revenant (2015 film) 1.34714493871\n",
      "149 12 Years a Slave (film) 1.34635203097\n",
      "249 Zero Dark Thirty 1.30857691226\n",
      "worst:\n",
      "1594 Marvel Animated Features -2.00419661771\n",
      "5248 The Death and Return of Superman (film) -1.99803400329\n",
      "2583 Wonder Woman (2009 film) -1.90871988026\n",
      "136 Justice League vs. Teen Titans -1.90354707261\n",
      "590 Batman vs. Robin -1.8804592811\n"
     ]
    }
   ],
   "source": [
    "estimated_movie_ratings = clf.decision_function(normalized_movies)\n",
    "best = np.argsort(estimated_movie_ratings)\n",
    "print('best:')\n",
    "for c in reversed(best[-5:]):\n",
    "    print(c, movies[c][0], estimated_movie_ratings[c])\n",
    "\n",
    "print('worst:')\n",
    "for c in best[:5]:\n",
    "    print(c, movies[c][0], estimated_movie_ratings[c])\n"
   ]
  },
  {
   "cell_type": "code",
   "execution_count": 29,
   "metadata": {},
   "outputs": [],
   "source": [
    "rotten_y = np.asarray([float(movie[-2][:-1]) / 100 for movie in movies if movie[-2]])\n",
    "rotten_X = np.asarray([normalized_movies[movie_to_idx[movie[0]]] for movie in movies if movie[-2]])"
   ]
  },
  {
   "cell_type": "code",
   "execution_count": 30,
   "metadata": {},
   "outputs": [
    {
     "data": {
      "text/plain": [
       "LinearRegression(copy_X=True, fit_intercept=True, n_jobs=None,\n",
       "         normalize=False)"
      ]
     },
     "execution_count": 30,
     "metadata": {},
     "output_type": "execute_result"
    }
   ],
   "source": [
    "TRAINING_CUT_OFF = int(len(rotten_X) * 0.8)\n",
    "regr = LinearRegression()\n",
    "regr.fit(rotten_X[:TRAINING_CUT_OFF], rotten_y[:TRAINING_CUT_OFF])"
   ]
  },
  {
   "cell_type": "code",
   "execution_count": 31,
   "metadata": {},
   "outputs": [
    {
     "data": {
      "text/plain": [
       "'mean square error 0.08'"
      ]
     },
     "execution_count": 31,
     "metadata": {},
     "output_type": "execute_result"
    }
   ],
   "source": [
    "error = (regr.predict(rotten_X[TRAINING_CUT_OFF:]) - rotten_y[TRAINING_CUT_OFF:])\n",
    "'mean square error %2.2f' % np.mean(error ** 2)"
   ]
  },
  {
   "cell_type": "code",
   "execution_count": 32,
   "metadata": {},
   "outputs": [
    {
     "data": {
      "text/plain": [
       "'mean square error 0.09'"
      ]
     },
     "execution_count": 32,
     "metadata": {},
     "output_type": "execute_result"
    }
   ],
   "source": [
    "error = (np.mean(rotten_y[:TRAINING_CUT_OFF]) - rotten_y[TRAINING_CUT_OFF:])\n",
    "'mean square error %2.2f' % np.mean(error ** 2)"
   ]
  },
  {
   "cell_type": "code",
   "execution_count": 33,
   "metadata": {},
   "outputs": [
    {
     "name": "stdout",
     "output_type": "stream",
     "text": [
      "6 The Martian (film) 10900.0\n",
      "7 List of Marvel Cinematic Universe films 4300.0\n",
      "49 Back to the Future 3900.0\n",
      "71 The Conjuring 2932.0\n",
      "162 Thor (film) 2464.0\n",
      "36 Furious 7 2340.0\n",
      "30 Finding Dory 2187.0\n",
      "1906 Jane Eyre (2011 film) 2068.0\n",
      "19 Interstellar (film) 1670.0\n",
      "2251 An American Werewolf in London 1655.0\n"
     ]
    }
   ],
   "source": [
    "def gross(movie):\n",
    "    v = movie[1].get('gross')\n",
    "    if not v or not ' ' in v:\n",
    "        return None\n",
    "    v, unit = v.split(' ', 1)\n",
    "    unit = unit.lower()\n",
    "    if not unit in ('million', 'billion'):\n",
    "        return None\n",
    "    if not v.startswith('$'):\n",
    "        return None\n",
    "    try:\n",
    "        v = float(v[1:])\n",
    "    except ValueError:\n",
    "        return None\n",
    "    if unit == 'billion':\n",
    "        v *= 1000\n",
    "    return v\n",
    "\n",
    "movie_gross = [gross(m) for m in movies]\n",
    "movie_gross = np.asarray([gr for gr in movie_gross if gr is not None])\n",
    "highest = np.argsort(movie_gross)[-10:]\n",
    "for c in reversed(highest):\n",
    "    print(c, movies[c][0], movie_gross[c])"
   ]
  },
  {
   "cell_type": "code",
   "execution_count": 34,
   "metadata": {},
   "outputs": [],
   "source": [
    "gross_y = np.asarray([gr for gr in movie_gross if gr])\n",
    "gross_X = np.asarray([normalized_movies[movie_to_idx[movie[0]]] for movie, gr in zip(movies, movie_gross) if gr])"
   ]
  },
  {
   "cell_type": "code",
   "execution_count": 35,
   "metadata": {},
   "outputs": [
    {
     "data": {
      "text/plain": [
       "LinearRegression(copy_X=True, fit_intercept=True, n_jobs=None,\n",
       "         normalize=False)"
      ]
     },
     "execution_count": 35,
     "metadata": {},
     "output_type": "execute_result"
    }
   ],
   "source": [
    "TRAINING_CUT_OFF = int(len(gross_X) * 0.8)\n",
    "regr = LinearRegression()\n",
    "regr.fit(gross_X[:TRAINING_CUT_OFF], gross_y[:TRAINING_CUT_OFF])"
   ]
  },
  {
   "cell_type": "code",
   "execution_count": 36,
   "metadata": {},
   "outputs": [
    {
     "data": {
      "text/plain": [
       "'mean square error 11453.83'"
      ]
     },
     "execution_count": 36,
     "metadata": {},
     "output_type": "execute_result"
    }
   ],
   "source": [
    "error = (regr.predict(gross_X[TRAINING_CUT_OFF:]) - gross_y[TRAINING_CUT_OFF:])\n",
    "'mean square error %2.2f' % np.mean(error ** 2)"
   ]
  },
  {
   "cell_type": "code",
   "execution_count": 37,
   "metadata": {},
   "outputs": [
    {
     "data": {
      "text/plain": [
       "'mean square error 14115.59'"
      ]
     },
     "execution_count": 37,
     "metadata": {},
     "output_type": "execute_result"
    }
   ],
   "source": [
    "error = (np.mean(gross_y[:TRAINING_CUT_OFF]) - gross_y[TRAINING_CUT_OFF:])\n",
    "'mean square error %2.2f' % np.mean(error ** 2)"
   ]
  },
  {
   "cell_type": "code",
   "execution_count": null,
   "metadata": {},
   "outputs": [],
   "source": []
  }
 ],
 "metadata": {
  "kernelspec": {
   "display_name": "Python 3",
   "language": "python",
   "name": "python3"
  },
  "language_info": {
   "codemirror_mode": {
    "name": "ipython",
    "version": 3
   },
   "file_extension": ".py",
   "mimetype": "text/x-python",
   "name": "python",
   "nbconvert_exporter": "python",
   "pygments_lexer": "ipython3",
   "version": "3.5.2"
  }
 },
 "nbformat": 4,
 "nbformat_minor": 1
}
